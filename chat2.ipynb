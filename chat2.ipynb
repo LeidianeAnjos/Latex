{
  "nbformat": 4,
  "nbformat_minor": 0,
  "metadata": {
    "colab": {
      "provenance": [],
      "authorship_tag": "ABX9TyN/2r1Rzy81dYgnzHZ1AcWM",
      "include_colab_link": true
    },
    "kernelspec": {
      "name": "python3",
      "display_name": "Python 3"
    },
    "language_info": {
      "name": "python"
    }
  },
  "cells": [
    {
      "cell_type": "markdown",
      "metadata": {
        "id": "view-in-github",
        "colab_type": "text"
      },
      "source": [
        "<a href=\"https://colab.research.google.com/github/LeidianeAnjos/Latex/blob/main/chat2.ipynb\" target=\"_parent\"><img src=\"https://colab.research.google.com/assets/colab-badge.svg\" alt=\"Open In Colab\"/></a>"
      ]
    },
    {
      "cell_type": "code",
      "execution_count": null,
      "metadata": {
        "id": "6OfSRuyEnZig"
      },
      "outputs": [],
      "source": [
        "pip install -U pip setuptools wheel"
      ]
    },
    {
      "cell_type": "code",
      "source": [
        "pip install -U spacy"
      ],
      "metadata": {
        "id": "w7iLv9pjoVa8"
      },
      "execution_count": null,
      "outputs": []
    },
    {
      "cell_type": "code",
      "source": [
        "pip install spacy"
      ],
      "metadata": {
        "id": "i2by5pstozJ7"
      },
      "execution_count": null,
      "outputs": []
    },
    {
      "cell_type": "code",
      "source": [
        "import spacy"
      ],
      "metadata": {
        "id": "b9yhIQhJpLfF"
      },
      "execution_count": null,
      "outputs": []
    },
    {
      "cell_type": "code",
      "source": [
        "pip install pyTelegramBotAPI"
      ],
      "metadata": {
        "id": "NyeawO-Yqr29"
      },
      "execution_count": null,
      "outputs": []
    },
    {
      "cell_type": "code",
      "source": [
        "!pip3 install python-decouple"
      ],
      "metadata": {
        "id": "cPdAV55drDpR"
      },
      "execution_count": null,
      "outputs": []
    },
    {
      "cell_type": "code",
      "source": [
        "!python -m spacy download en_core_web_sm"
      ],
      "metadata": {
        "id": "uE5VZ6f5rxgZ"
      },
      "execution_count": null,
      "outputs": []
    },
    {
      "cell_type": "code",
      "source": [
        "!python -m spacy download pt_core_news_sm"
      ],
      "metadata": {
        "id": "rbWmDJKKr9J7"
      },
      "execution_count": null,
      "outputs": []
    },
    {
      "cell_type": "code",
      "source": [
        "!pip3 install pyTelegramBotAPI\n",
        "!pip3 install --upgrade pyTelegramBotAPI\n",
        "!pip3 install telebot\n",
        "!pip3 install python-decouple\n",
        "import telebot\n",
        "from decouple import config\n",
        "import time\n",
        "\n",
        "token = \"7352861241:AAEHmEiAyBC0cEc_66TbyMOcLIKf8tPDjO0\"\n",
        "\n",
        "bot = telebot.TeleBot(token)\n",
        "\n",
        "#PARTE1: Iniciar a conversa com o BOT\n",
        "@bot.message_handler(commands=['start','iniciar'])\n",
        "def start(message):\n",
        "    bot.send_message(message.chat.id, \"Faaala coisa rica! Tudo bem com vc?\",timeout=120)\n",
        "\n",
        "@bot.message_handler(regexp='iniciar')\n",
        "def iniciar(message):\n",
        "    bot.send_message(message.chat.id, \"Faaala coisa rica! Tudo bem com vc?\",timeout=120)\n",
        "\n",
        "@bot.message_handler(regexp=r'tudo|td|paz|sim')\n",
        "def pergunta(message):\n",
        "    bot.send_message(message.chat.id, \"Bora fazer o download do arquivo? Digite Bora, para receber o arquivo ou digite Depois, para uma próxima oportunidade.\",timeout=120)\n",
        "\n",
        "#PARTE2: Download ou Playlist\n",
        "@bot.message_handler(regexp='bora')\n",
        "def download(message):\n",
        "    doc = open(\"Aulas\\\\Dadoteca.pdf\",\"rb\")\n",
        "    bot.send_message(message.chat.id, \"Show! Partiu download!\",timeout=120)\n",
        "    time.sleep(2)\n",
        "    bot.send_document(message.chat.id, doc, timeout=120)\n",
        "    time.sleep(4)\n",
        "    bot.send_message(message.chat.id, \"Obrigado pelo download! Apreveite o livro! Querendo reinicar nossa conversa digite iniciar\",timeout=120)\n",
        "    time.sleep(2)\n",
        "    bot.send_message(message.chat.id, \"Tmj e boas análises!\",timeout=120)\n",
        "\n",
        "@bot.message_handler(regexp='depois')\n",
        "def convencimento(message):\n",
        "    time.sleep(6)\n",
        "    bot.send_message(message.chat.id, \"É sério? Tu não vai querer? Vou te dar mais uma chance de saber tudo e mais um pouco sobre metodologias de projetos de BI. Bora fazer fazer o download?\",timeout=120)\n",
        "    time.sleep(6)\n",
        "    bot.send_message(message.chat.id, \"Tu já sabe o que tem que digitar, né? rssss Mas, vou te lembrar, por via das dúvidas. Digite Bora para receber esse arquivo! Do contrário, digite Tchau, vou ficar triste, mas fazer o que :(\",timeout=120)\n",
        "\n",
        "@bot.message_handler(regexp='tchau')\n",
        "def tchau(message):\n",
        "    time.sleep(2)\n",
        "    bot.send_message(message.chat.id, \"Teimosão, hein!\",timeout=120)\n",
        "    time.sleep(6)\n",
        "    bot.send_message(message.chat.id, \"Rsssss brincadeiras a parte, se quser reforçar o seu conhecimento em projetos de BI, assista a playlist gratuita, no link https://youtube.com/playlist?list=PLPP4r1UqnhGp13iYi4C1WN99o3SSgCpXJ\",timeout=120)\n",
        "    time.sleep(2)\n",
        "    bot.send_message(message.chat.id, \"Caso mude de ideia, basta digitar iniciar, para iniciar o papo e realizar o download.\",timeout=120)\n",
        "    time.sleep(2)\n",
        "    bot.send_message(message.chat.id, \"Tmj e boas análises!\",timeout=120)\n",
        "\n",
        "bot.polling() #sondagem, verificar se há mensagens"
      ],
      "metadata": {
        "colab": {
          "base_uri": "https://localhost:8080/"
        },
        "id": "jeHozCL4p5S8",
        "outputId": "b34e029a-6067-40c3-cd96-1439e029e350"
      },
      "execution_count": null,
      "outputs": [
        {
          "output_type": "stream",
          "name": "stdout",
          "text": [
            "Requirement already satisfied: pyTelegramBotAPI in /usr/local/lib/python3.11/dist-packages (4.27.0)\n",
            "Requirement already satisfied: requests in /usr/local/lib/python3.11/dist-packages (from pyTelegramBotAPI) (2.32.3)\n",
            "Requirement already satisfied: charset-normalizer<4,>=2 in /usr/local/lib/python3.11/dist-packages (from requests->pyTelegramBotAPI) (3.4.2)\n",
            "Requirement already satisfied: idna<4,>=2.5 in /usr/local/lib/python3.11/dist-packages (from requests->pyTelegramBotAPI) (3.10)\n",
            "Requirement already satisfied: urllib3<3,>=1.21.1 in /usr/local/lib/python3.11/dist-packages (from requests->pyTelegramBotAPI) (2.4.0)\n",
            "Requirement already satisfied: certifi>=2017.4.17 in /usr/local/lib/python3.11/dist-packages (from requests->pyTelegramBotAPI) (2025.6.15)\n",
            "Requirement already satisfied: pyTelegramBotAPI in /usr/local/lib/python3.11/dist-packages (4.27.0)\n",
            "Requirement already satisfied: requests in /usr/local/lib/python3.11/dist-packages (from pyTelegramBotAPI) (2.32.3)\n",
            "Requirement already satisfied: charset-normalizer<4,>=2 in /usr/local/lib/python3.11/dist-packages (from requests->pyTelegramBotAPI) (3.4.2)\n",
            "Requirement already satisfied: idna<4,>=2.5 in /usr/local/lib/python3.11/dist-packages (from requests->pyTelegramBotAPI) (3.10)\n",
            "Requirement already satisfied: urllib3<3,>=1.21.1 in /usr/local/lib/python3.11/dist-packages (from requests->pyTelegramBotAPI) (2.4.0)\n",
            "Requirement already satisfied: certifi>=2017.4.17 in /usr/local/lib/python3.11/dist-packages (from requests->pyTelegramBotAPI) (2025.6.15)\n",
            "Collecting telebot\n",
            "  Downloading telebot-0.0.5-py3-none-any.whl.metadata (2.0 kB)\n",
            "Requirement already satisfied: pyTelegramBotAPI in /usr/local/lib/python3.11/dist-packages (from telebot) (4.27.0)\n",
            "Requirement already satisfied: requests in /usr/local/lib/python3.11/dist-packages (from telebot) (2.32.3)\n",
            "Requirement already satisfied: charset-normalizer<4,>=2 in /usr/local/lib/python3.11/dist-packages (from requests->telebot) (3.4.2)\n",
            "Requirement already satisfied: idna<4,>=2.5 in /usr/local/lib/python3.11/dist-packages (from requests->telebot) (3.10)\n",
            "Requirement already satisfied: urllib3<3,>=1.21.1 in /usr/local/lib/python3.11/dist-packages (from requests->telebot) (2.4.0)\n",
            "Requirement already satisfied: certifi>=2017.4.17 in /usr/local/lib/python3.11/dist-packages (from requests->telebot) (2025.6.15)\n",
            "Downloading telebot-0.0.5-py3-none-any.whl (4.8 kB)\n",
            "Installing collected packages: telebot\n",
            "Successfully installed telebot-0.0.5\n",
            "Requirement already satisfied: python-decouple in /usr/local/lib/python3.11/dist-packages (3.8)\n"
          ]
        }
      ]
    }
  ]
}